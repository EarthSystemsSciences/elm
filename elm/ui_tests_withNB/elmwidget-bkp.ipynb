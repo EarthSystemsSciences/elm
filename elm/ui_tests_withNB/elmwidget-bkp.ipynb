{
 "cells": [
  {
   "cell_type": "code",
   "execution_count": 3,
   "id": "2a23c4c8-ecb0-4f36-ab89-cde028e01153",
   "metadata": {},
   "outputs": [],
   "source": [
    "import elm"
   ]
  },
  {
   "cell_type": "code",
   "execution_count": 4,
   "id": "ffbaf908-665b-4371-86c2-c40232265345",
   "metadata": {},
   "outputs": [
    {
     "data": {
      "application/vnd.jupyter.widget-view+json": {
       "model_id": "18ed10b62aff4a0784d18f1ce822af36",
       "version_major": 2,
       "version_minor": 0
      },
      "text/plain": [
       "ELMWidget()"
      ]
     },
     "execution_count": 4,
     "metadata": {},
     "output_type": "execute_result"
    }
   ],
   "source": [
    "elmw = elm.ELMWidget()\n",
    "elmw"
   ]
  },
  {
   "cell_type": "code",
   "execution_count": 5,
   "id": "acc25925-632d-4950-888b-1fcfbda57625",
   "metadata": {},
   "outputs": [
    {
     "data": {
      "text/plain": [
       "'Latitude'"
      ]
     },
     "execution_count": 5,
     "metadata": {},
     "output_type": "execute_result"
    }
   ],
   "source": [
    "elmw.latitude"
   ]
  },
  {
   "cell_type": "code",
   "execution_count": 6,
   "id": "2357e9a3-9269-4ad3-a817-7ae556776d65",
   "metadata": {},
   "outputs": [
    {
     "data": {
      "text/plain": [
       "'Longitude'"
      ]
     },
     "execution_count": 6,
     "metadata": {},
     "output_type": "execute_result"
    }
   ],
   "source": [
    "elmw.longitude"
   ]
  },
  {
   "cell_type": "code",
   "execution_count": 7,
   "id": "cea4f6d3-079a-4bd8-acb9-e59cc932588e",
   "metadata": {},
   "outputs": [
    {
     "data": {
      "text/plain": [
       "'Simulation date'"
      ]
     },
     "execution_count": 7,
     "metadata": {},
     "output_type": "execute_result"
    }
   ],
   "source": [
    "elmw.simul_date"
   ]
  },
  {
   "cell_type": "code",
   "execution_count": 8,
   "id": "cf77f5b3-a1cb-41ec-9ea9-0334862ff3b6",
   "metadata": {},
   "outputs": [
    {
     "data": {
      "text/plain": [
       "'Timestamp'"
      ]
     },
     "execution_count": 8,
     "metadata": {},
     "output_type": "execute_result"
    }
   ],
   "source": [
    "elmw.time_stamp"
   ]
  },
  {
   "cell_type": "code",
   "execution_count": 9,
   "id": "402e7ebf-d979-4d7a-a731-8a91b9dba609",
   "metadata": {},
   "outputs": [
    {
     "data": {
      "text/plain": [
       "'Station'"
      ]
     },
     "execution_count": 9,
     "metadata": {},
     "output_type": "execute_result"
    }
   ],
   "source": [
    "elmw.station"
   ]
  },
  {
   "cell_type": "code",
   "execution_count": 10,
   "id": "e8f5797f-bf33-4340-91c2-579f4f1e6baa",
   "metadata": {},
   "outputs": [],
   "source": [
    "#from ipyleaflet import Map, basemaps, basemap_to_tiles, Marker\n",
    "from ipyleaflet import Map, Marker"
   ]
  },
  {
   "cell_type": "code",
   "execution_count": 11,
   "id": "434cd379-ea13-4898-937e-d542deed3f19",
   "metadata": {},
   "outputs": [
    {
     "data": {
      "application/vnd.jupyter.widget-view+json": {
       "model_id": "2873e66b65ef4bf69ead4c2a1de7481f",
       "version_major": 2,
       "version_minor": 0
      },
      "text/plain": [
       "Map(center=['52.204793', '360.121558'], controls=(ZoomControl(options=['position', 'zoom_in_text', 'zoom_in_ti…"
      ]
     },
     "execution_count": 11,
     "metadata": {},
     "output_type": "execute_result"
    }
   ],
   "source": [
    "# center = (elmw.latitude, elmw.longitude)\n",
    "center = ['52.204793', '360.121558']\n",
    "m = Map(center=center, zoom=15)\n",
    "\n",
    "marker = Marker(location=center, draggable=True)\n",
    "m.add_layer(marker);\n",
    "\n",
    "m\n",
    "\n",
    "#display(m)"
   ]
  },
  {
   "cell_type": "markdown",
   "id": "53ddd769-ab09-4ae3-9a3e-939ee09f3335",
   "metadata": {},
   "source": [
    "# Create a legend"
   ]
  },
  {
   "cell_type": "code",
   "execution_count": 53,
   "id": "4cb55945-5657-44ae-8d07-75b25adb6bcb",
   "metadata": {},
   "outputs": [],
   "source": [
    "from ipyleaflet_legend import Legend\n",
    "a_legend = Legend({\"low\":\"#FAA\", \"medium\":\"#A55\", \"High\":\"#500\"}, name=\"Legend\")"
   ]
  },
  {
   "cell_type": "code",
   "execution_count": 54,
   "id": "8e46b9de-473a-4167-979d-30b8077e9d22",
   "metadata": {},
   "outputs": [],
   "source": [
    "m.add_control(a_legend)"
   ]
  },
  {
   "cell_type": "markdown",
   "id": "de46bd9d-9a00-4e42-863b-f0a64c07681b",
   "metadata": {},
   "source": [
    "# Manipulate a legend"
   ]
  },
  {
   "cell_type": "markdown",
   "id": "75a263ab-a26b-4051-9b4c-ccf5cfb40b7b",
   "metadata": {},
   "source": [
    "# Name"
   ]
  },
  {
   "cell_type": "code",
   "execution_count": 45,
   "id": "cd5a7384-a514-46a2-8552-714d42dc2bc6",
   "metadata": {},
   "outputs": [
    {
     "data": {
      "text/plain": [
       "'Risk'"
      ]
     },
     "execution_count": 45,
     "metadata": {},
     "output_type": "execute_result"
    }
   ],
   "source": [
    "a_legend.name = \"Risk\" ## set name\n",
    "a_legend.name # get name"
   ]
  },
  {
   "cell_type": "markdown",
   "id": "c9ca81b4-4117-431b-97bc-43721ade3932",
   "metadata": {},
   "source": [
    "# Legend content"
   ]
  },
  {
   "cell_type": "code",
   "execution_count": 46,
   "id": "e85b91e0-4707-41bd-8657-a478b148a444",
   "metadata": {},
   "outputs": [],
   "source": [
    "a_legend.legends = {\"prince\":\"#FAA\", \"of\":\"#A55\", \"BelAire\":\"#500\"} #set content\n",
    "a_legend.legends # get content\n",
    "a_legend.add_legend_element(\"woa\",\"#000\") # add a legend element"
   ]
  },
  {
   "cell_type": "code",
   "execution_count": 47,
   "id": "105b1e1c-edcd-4562-a22f-d6501b0991b7",
   "metadata": {},
   "outputs": [],
   "source": [
    "a_legend.remove_legend_element(\"woa\") # remove a legend element"
   ]
  },
  {
   "cell_type": "markdown",
   "id": "4d9e01db-595b-4d35-9a58-431356713097",
   "metadata": {},
   "source": [
    "# Positioning"
   ]
  },
  {
   "cell_type": "code",
   "execution_count": 48,
   "id": "ff32daa1-65ba-41b8-a141-526fd1e09c8b",
   "metadata": {},
   "outputs": [
    {
     "data": {
      "text/plain": [
       "'topright'"
      ]
     },
     "execution_count": 48,
     "metadata": {},
     "output_type": "execute_result"
    }
   ],
   "source": [
    "a_legend.positionning =\"topright\" # set positionning : possible values are topleft, topright, bottomleft, bottomright\n",
    "a_legend.positionning # get current positionning"
   ]
  }
 ],
 "metadata": {
  "kernelspec": {
   "display_name": "Python 3 (ipykernel)",
   "language": "python",
   "name": "python3"
  },
  "language_info": {
   "codemirror_mode": {
    "name": "ipython",
    "version": 3
   },
   "file_extension": ".py",
   "mimetype": "text/x-python",
   "name": "python",
   "nbconvert_exporter": "python",
   "pygments_lexer": "ipython3",
   "version": "3.11.0"
  }
 },
 "nbformat": 4,
 "nbformat_minor": 5
}
