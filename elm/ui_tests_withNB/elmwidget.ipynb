{
 "cells": [
  {
   "cell_type": "code",
   "execution_count": 1,
   "id": "2a23c4c8-ecb0-4f36-ab89-cde028e01153",
   "metadata": {},
   "outputs": [
    {
     "data": {
      "application/vnd.jupyter.widget-view+json": {
       "model_id": "370aa72ef5574d9493c7b6d597d56514",
       "version_major": 2,
       "version_minor": 0
      },
      "text/plain": [
       "ELMWidget()"
      ]
     },
     "execution_count": 1,
     "metadata": {},
     "output_type": "execute_result"
    }
   ],
   "source": [
    "import elm\n",
    "elmw = elm.ELMWidget()\n",
    "elmw"
   ]
  },
  {
   "cell_type": "code",
   "execution_count": null,
   "id": "98ae117b-0fc0-4416-ac08-9d8323416d59",
   "metadata": {},
   "outputs": [],
   "source": []
  },
  {
   "cell_type": "code",
   "execution_count": null,
   "id": "46185ae3-5f05-47d3-a97a-44b71905b058",
   "metadata": {},
   "outputs": [],
   "source": []
  },
  {
   "cell_type": "markdown",
   "id": "99be7657-1b41-40bd-a5bb-8d361dd7c880",
   "metadata": {},
   "source": [
    "## If this JupyterLab client is running from a remote server machine, then we need the FileChooser to get the MDSF and CLM files from the JupyterLab server filesystem.\n",
    "\n",
    "### https://github.com/crahan/ipyfilechooser"
   ]
  },
  {
   "cell_type": "code",
   "execution_count": 2,
   "id": "3dd4cd0a-d979-4fb4-9e52-7ae9a08bcd60",
   "metadata": {},
   "outputs": [
    {
     "data": {
      "application/vnd.jupyter.widget-view+json": {
       "model_id": "284833e6f53143a8b6979a5a5179483e",
       "version_major": 2,
       "version_minor": 0
      },
      "text/plain": [
       "FileChooser(path='/homes/qzhang/jupyter/jpl_apps/CustomWidgets/elm/elm/ui_tests_withNB', filename='', title=''…"
      ]
     },
     "metadata": {},
     "output_type": "display_data"
    }
   ],
   "source": [
    "from ipyfilechooser import FileChooser\n",
    "\n",
    "fc = FileChooser()\n",
    "display(fc)"
   ]
  },
  {
   "cell_type": "code",
   "execution_count": 3,
   "id": "bc3840f6-f731-48f8-8c29-00f6cc366253",
   "metadata": {},
   "outputs": [
    {
     "data": {
      "text/plain": [
       "'/homes/qzhang/jupyter/jpl_apps/CustomWidgets/elm/elm/ui_tests_withNB/data/clm_params_files/new_clm_file.nc'"
      ]
     },
     "execution_count": 3,
     "metadata": {},
     "output_type": "execute_result"
    }
   ],
   "source": [
    "fc.selected"
   ]
  },
  {
   "cell_type": "code",
   "execution_count": 4,
   "id": "3c393043-0599-4e6d-88a9-f423c61c2291",
   "metadata": {},
   "outputs": [
    {
     "data": {
      "text/plain": [
       "'/homes/qzhang/jupyter/jpl_apps/CustomWidgets/elm/elm/ui_tests_withNB/data/clm_params_files'"
      ]
     },
     "execution_count": 4,
     "metadata": {},
     "output_type": "execute_result"
    }
   ],
   "source": [
    "fc.selected_path"
   ]
  },
  {
   "cell_type": "code",
   "execution_count": 5,
   "id": "acd6736d-ab26-4ad9-a0d7-5972a1509998",
   "metadata": {},
   "outputs": [
    {
     "data": {
      "text/plain": [
       "'new_clm_file.nc'"
      ]
     },
     "execution_count": 5,
     "metadata": {},
     "output_type": "execute_result"
    }
   ],
   "source": [
    "fc.selected_filename"
   ]
  },
  {
   "cell_type": "code",
   "execution_count": null,
   "id": "c773cad4-dc69-48f1-b4cf-220b02d135e4",
   "metadata": {},
   "outputs": [],
   "source": []
  },
  {
   "cell_type": "code",
   "execution_count": null,
   "id": "ed8ab73e-135b-496e-8708-4ba17ecdb677",
   "metadata": {},
   "outputs": [],
   "source": []
  },
  {
   "cell_type": "code",
   "execution_count": null,
   "id": "c42e2f4c-c533-4a3f-ac1c-ab2de7603011",
   "metadata": {},
   "outputs": [],
   "source": []
  },
  {
   "cell_type": "code",
   "execution_count": 10,
   "id": "e8f5797f-bf33-4340-91c2-579f4f1e6baa",
   "metadata": {},
   "outputs": [],
   "source": [
    "#from ipyleaflet import Map, basemaps, basemap_to_tiles, Marker\n",
    "from ipyleaflet import Map, Marker"
   ]
  },
  {
   "cell_type": "code",
   "execution_count": 11,
   "id": "434cd379-ea13-4898-937e-d542deed3f19",
   "metadata": {},
   "outputs": [
    {
     "data": {
      "application/vnd.jupyter.widget-view+json": {
       "model_id": "2873e66b65ef4bf69ead4c2a1de7481f",
       "version_major": 2,
       "version_minor": 0
      },
      "text/plain": [
       "Map(center=['52.204793', '360.121558'], controls=(ZoomControl(options=['position', 'zoom_in_text', 'zoom_in_ti…"
      ]
     },
     "execution_count": 11,
     "metadata": {},
     "output_type": "execute_result"
    }
   ],
   "source": [
    "# center = (elmw.latitude, elmw.longitude)\n",
    "center = ['52.204793', '360.121558']\n",
    "m = Map(center=center, zoom=15)\n",
    "\n",
    "marker = Marker(location=center, draggable=True)\n",
    "m.add_layer(marker);\n",
    "\n",
    "m\n",
    "\n",
    "#display(m)"
   ]
  },
  {
   "cell_type": "markdown",
   "id": "53ddd769-ab09-4ae3-9a3e-939ee09f3335",
   "metadata": {},
   "source": [
    "# Create a legend"
   ]
  },
  {
   "cell_type": "code",
   "execution_count": 53,
   "id": "4cb55945-5657-44ae-8d07-75b25adb6bcb",
   "metadata": {},
   "outputs": [],
   "source": [
    "from ipyleaflet_legend import Legend\n",
    "a_legend = Legend({\"low\":\"#FAA\", \"medium\":\"#A55\", \"High\":\"#500\"}, name=\"Legend\")"
   ]
  },
  {
   "cell_type": "code",
   "execution_count": 54,
   "id": "8e46b9de-473a-4167-979d-30b8077e9d22",
   "metadata": {},
   "outputs": [],
   "source": [
    "m.add_control(a_legend)"
   ]
  },
  {
   "cell_type": "markdown",
   "id": "de46bd9d-9a00-4e42-863b-f0a64c07681b",
   "metadata": {},
   "source": [
    "# Manipulate a legend"
   ]
  },
  {
   "cell_type": "markdown",
   "id": "75a263ab-a26b-4051-9b4c-ccf5cfb40b7b",
   "metadata": {},
   "source": [
    "# Name"
   ]
  },
  {
   "cell_type": "code",
   "execution_count": 45,
   "id": "cd5a7384-a514-46a2-8552-714d42dc2bc6",
   "metadata": {},
   "outputs": [
    {
     "data": {
      "text/plain": [
       "'Risk'"
      ]
     },
     "execution_count": 45,
     "metadata": {},
     "output_type": "execute_result"
    }
   ],
   "source": [
    "a_legend.name = \"Risk\" ## set name\n",
    "a_legend.name # get name"
   ]
  },
  {
   "cell_type": "markdown",
   "id": "c9ca81b4-4117-431b-97bc-43721ade3932",
   "metadata": {},
   "source": [
    "# Legend content"
   ]
  },
  {
   "cell_type": "code",
   "execution_count": 46,
   "id": "e85b91e0-4707-41bd-8657-a478b148a444",
   "metadata": {},
   "outputs": [],
   "source": [
    "a_legend.legends = {\"prince\":\"#FAA\", \"of\":\"#A55\", \"BelAire\":\"#500\"} #set content\n",
    "a_legend.legends # get content\n",
    "a_legend.add_legend_element(\"woa\",\"#000\") # add a legend element"
   ]
  },
  {
   "cell_type": "code",
   "execution_count": 47,
   "id": "105b1e1c-edcd-4562-a22f-d6501b0991b7",
   "metadata": {},
   "outputs": [],
   "source": [
    "a_legend.remove_legend_element(\"woa\") # remove a legend element"
   ]
  },
  {
   "cell_type": "markdown",
   "id": "4d9e01db-595b-4d35-9a58-431356713097",
   "metadata": {},
   "source": [
    "# Positioning"
   ]
  },
  {
   "cell_type": "code",
   "execution_count": 48,
   "id": "ff32daa1-65ba-41b8-a141-526fd1e09c8b",
   "metadata": {},
   "outputs": [
    {
     "data": {
      "text/plain": [
       "'topright'"
      ]
     },
     "execution_count": 48,
     "metadata": {},
     "output_type": "execute_result"
    }
   ],
   "source": [
    "a_legend.positionning =\"topright\" # set positionning : possible values are topleft, topright, bottomleft, bottomright\n",
    "a_legend.positionning # get current positionning"
   ]
  }
 ],
 "metadata": {
  "kernelspec": {
   "display_name": "Python 3 (ipykernel)",
   "language": "python",
   "name": "python3"
  },
  "language_info": {
   "codemirror_mode": {
    "name": "ipython",
    "version": 3
   },
   "file_extension": ".py",
   "mimetype": "text/x-python",
   "name": "python",
   "nbconvert_exporter": "python",
   "pygments_lexer": "ipython3",
   "version": "3.11.0"
  }
 },
 "nbformat": 4,
 "nbformat_minor": 5
}
