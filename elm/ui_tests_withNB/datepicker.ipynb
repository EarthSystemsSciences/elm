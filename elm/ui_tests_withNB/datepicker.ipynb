{
 "cells": [
  {
   "cell_type": "code",
   "execution_count": 2,
   "id": "6803e23d-8ee0-41c7-b8bf-865beb223e35",
   "metadata": {},
   "outputs": [],
   "source": [
    "from dateutil import parser\n",
    "# from dateutil.parser import *\n",
    "\n",
    "from dateutil.relativedelta import *\n",
    "from dateutil.easter import *\n",
    "from dateutil.rrule import *\n",
    "from datetime import *"
   ]
  },
  {
   "cell_type": "code",
   "execution_count": 3,
   "id": "91dadaf7-baed-408f-9d80-42a33a3d7b2e",
   "metadata": {},
   "outputs": [
    {
     "data": {
      "text/plain": [
       "datetime.datetime(2023, 3, 27, 0, 0)"
      ]
     },
     "execution_count": 3,
     "metadata": {},
     "output_type": "execute_result"
    }
   ],
   "source": [
    "parsed_date = parser.parse('03-27-2023')\n",
    "parsed_date"
   ]
  },
  {
   "cell_type": "code",
   "execution_count": 14,
   "id": "5f30d872-e86a-480f-909d-d8cd5ad063e1",
   "metadata": {},
   "outputs": [
    {
     "name": "stdout",
     "output_type": "stream",
     "text": [
      "Today is 2023-04-11, time is 17:13:46\n"
     ]
    }
   ],
   "source": [
    "now = parser.parse(\"Sat Apr 11 17:13:46 UTC 2023\")\n",
    "today = now.date()\n",
    "time = now.time()\n",
    "print(f\"Today is {today}, time is {time}\")"
   ]
  },
  {
   "cell_type": "code",
   "execution_count": 15,
   "id": "2f1eabdf-e186-40cf-bac1-ad452f9645ef",
   "metadata": {},
   "outputs": [
    {
     "name": "stdout",
     "output_type": "stream",
     "text": [
      "rrule is 2027-08-13 17:13:46+00:00\n",
      "Year with next Aug 13th on a Friday is: 2027\n"
     ]
    }
   ],
   "source": [
    "rrule_var = rrule(YEARLY,dtstart=now,bymonth=8,bymonthday=13,byweekday=FR)[0]\n",
    "print(f\"rrule is {rrule_var}\")\n",
    "yr = rrule_var.year\n",
    "print(f\"Year with next Aug 13th on a Friday is: {yr}\")"
   ]
  },
  {
   "cell_type": "code",
   "execution_count": 18,
   "id": "79aecf62-b60c-45b5-981d-c1104794ca02",
   "metadata": {},
   "outputs": [
    {
     "name": "stdout",
     "output_type": "stream",
     "text": [
      "How far is the Easter of that year: relativedelta(years=+3, months=+11, days=+17)\n",
      "And the Easter of that year is: 2027-03-28\n"
     ]
    }
   ],
   "source": [
    "rdelta = relativedelta(easter(yr), today)\n",
    "rdelta  # relativedelta(years=+3, months=+11, days=+17)\n",
    "print(f\"How far is the Easter of that year: {rdelta}\")\n",
    "print(f\"And the Easter of that year is: {today+rdelta}\")"
   ]
  },
  {
   "cell_type": "code",
   "execution_count": null,
   "id": "cc109261-7660-40ba-9981-138d19f81dc8",
   "metadata": {},
   "outputs": [],
   "source": []
  }
 ],
 "metadata": {
  "kernelspec": {
   "display_name": "Python 3 (ipykernel)",
   "language": "python",
   "name": "python3"
  },
  "language_info": {
   "codemirror_mode": {
    "name": "ipython",
    "version": 3
   },
   "file_extension": ".py",
   "mimetype": "text/x-python",
   "name": "python",
   "nbconvert_exporter": "python",
   "pygments_lexer": "ipython3",
   "version": "3.11.0"
  }
 },
 "nbformat": 4,
 "nbformat_minor": 5
}
