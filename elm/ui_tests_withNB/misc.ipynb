{
 "cells": [
  {
   "cell_type": "code",
   "execution_count": 4,
   "id": "be39594c-e030-43d5-a83c-52847deb0540",
   "metadata": {},
   "outputs": [
    {
     "name": "stdout",
     "output_type": "stream",
     "text": [
      "/homes/qzhang/jupyter/jpl_apps/CustomWidgets/elm/elm/ui_tests_withNB\n",
      "elmwidget.ipynb\n",
      "http://sequoia.mcs.anl.gov:8888/lab/tree/elm/elm/ui_tests_withNB\n"
     ]
    }
   ],
   "source": [
    "import os\n",
    "cwd = os.getcwd()\n",
    "print(cwd)\n",
    "\n",
    "notebook_basename = os.path.basename(\"http://sequoia.mcs.anl.gov:8888/lab/tree/elm/elm/ui_tests_withNB/elmwidget.ipynb\")\n",
    "notebook_dir = os.path.dirname(\"http://sequoia.mcs.anl.gov:8888/lab/tree/elm/elm/ui_tests_withNB/elmwidget.ipynb\")\n",
    "\n",
    "print(notebook_basename)\n",
    "print(notebook_dir)"
   ]
  },
  {
   "cell_type": "markdown",
   "id": "a18b37d0-cdd6-4fa7-8eea-23ccc3dbec13",
   "metadata": {},
   "source": [
    "# FileUpload goes to the local filesystem"
   ]
  },
  {
   "cell_type": "code",
   "execution_count": 8,
   "id": "ce37957b-cb2c-465b-8e9a-d770af0ace4f",
   "metadata": {},
   "outputs": [
    {
     "data": {
      "application/vnd.jupyter.widget-view+json": {
       "model_id": "6dbd3876e9134543ac186774b43f43d5",
       "version_major": 2,
       "version_minor": 0
      },
      "text/plain": [
       "FileUpload(value=(), description='Upload')"
      ]
     },
     "execution_count": 8,
     "metadata": {},
     "output_type": "execute_result"
    }
   ],
   "source": [
    "from ipywidgets import FileUpload\n",
    "upload = FileUpload()\n",
    "upload"
   ]
  },
  {
   "cell_type": "markdown",
   "id": "f0e4b1e0-ed26-4572-ab27-c51b6202e995",
   "metadata": {},
   "source": [
    "# ipyfilechooser's FileChooser goes to the server's filesystem"
   ]
  },
  {
   "cell_type": "code",
   "execution_count": 1,
   "id": "26b29803-6e11-4a60-922b-6d24cffcab83",
   "metadata": {},
   "outputs": [
    {
     "name": "stdout",
     "output_type": "stream",
     "text": [
      "Requirement already satisfied: ipyfilechooser in /home/qzhang/miniconda3/envs/elm/lib/python3.11/site-packages (0.6.0)\n",
      "Requirement already satisfied: ipywidgets in /home/qzhang/miniconda3/envs/elm/lib/python3.11/site-packages (from ipyfilechooser) (8.0.5)\n",
      "Requirement already satisfied: ipython>=6.1.0 in /home/qzhang/miniconda3/envs/elm/lib/python3.11/site-packages (from ipywidgets->ipyfilechooser) (8.11.0)\n",
      "Requirement already satisfied: traitlets>=4.3.1 in /home/qzhang/miniconda3/envs/elm/lib/python3.11/site-packages (from ipywidgets->ipyfilechooser) (5.9.0)\n",
      "Requirement already satisfied: widgetsnbextension~=4.0 in /home/qzhang/miniconda3/envs/elm/lib/python3.11/site-packages (from ipywidgets->ipyfilechooser) (4.0.6)\n",
      "Requirement already satisfied: jupyterlab-widgets~=3.0 in /home/qzhang/miniconda3/envs/elm/lib/python3.11/site-packages (from ipywidgets->ipyfilechooser) (3.0.6)\n",
      "Requirement already satisfied: backcall in /home/qzhang/miniconda3/envs/elm/lib/python3.11/site-packages (from ipython>=6.1.0->ipywidgets->ipyfilechooser) (0.2.0)\n",
      "Requirement already satisfied: decorator in /home/qzhang/miniconda3/envs/elm/lib/python3.11/site-packages (from ipython>=6.1.0->ipywidgets->ipyfilechooser) (5.1.1)\n",
      "Requirement already satisfied: jedi>=0.16 in /home/qzhang/miniconda3/envs/elm/lib/python3.11/site-packages (from ipython>=6.1.0->ipywidgets->ipyfilechooser) (0.18.2)\n",
      "Requirement already satisfied: matplotlib-inline in /home/qzhang/miniconda3/envs/elm/lib/python3.11/site-packages (from ipython>=6.1.0->ipywidgets->ipyfilechooser) (0.1.6)\n",
      "Requirement already satisfied: pickleshare in /home/qzhang/miniconda3/envs/elm/lib/python3.11/site-packages (from ipython>=6.1.0->ipywidgets->ipyfilechooser) (0.7.5)\n",
      "Requirement already satisfied: prompt-toolkit!=3.0.37,<3.1.0,>=3.0.30 in /home/qzhang/miniconda3/envs/elm/lib/python3.11/site-packages (from ipython>=6.1.0->ipywidgets->ipyfilechooser) (3.0.38)\n",
      "Requirement already satisfied: pygments>=2.4.0 in /home/qzhang/miniconda3/envs/elm/lib/python3.11/site-packages (from ipython>=6.1.0->ipywidgets->ipyfilechooser) (2.14.0)\n",
      "Requirement already satisfied: stack-data in /home/qzhang/miniconda3/envs/elm/lib/python3.11/site-packages (from ipython>=6.1.0->ipywidgets->ipyfilechooser) (0.6.2)\n",
      "Requirement already satisfied: pexpect>4.3 in /home/qzhang/miniconda3/envs/elm/lib/python3.11/site-packages (from ipython>=6.1.0->ipywidgets->ipyfilechooser) (4.8.0)\n",
      "Requirement already satisfied: parso<0.9.0,>=0.8.0 in /home/qzhang/miniconda3/envs/elm/lib/python3.11/site-packages (from jedi>=0.16->ipython>=6.1.0->ipywidgets->ipyfilechooser) (0.8.3)\n",
      "Requirement already satisfied: ptyprocess>=0.5 in /home/qzhang/miniconda3/envs/elm/lib/python3.11/site-packages (from pexpect>4.3->ipython>=6.1.0->ipywidgets->ipyfilechooser) (0.7.0)\n",
      "Requirement already satisfied: wcwidth in /home/qzhang/miniconda3/envs/elm/lib/python3.11/site-packages (from prompt-toolkit!=3.0.37,<3.1.0,>=3.0.30->ipython>=6.1.0->ipywidgets->ipyfilechooser) (0.2.6)\n",
      "Requirement already satisfied: executing>=1.2.0 in /home/qzhang/miniconda3/envs/elm/lib/python3.11/site-packages (from stack-data->ipython>=6.1.0->ipywidgets->ipyfilechooser) (1.2.0)\n",
      "Requirement already satisfied: asttokens>=2.1.0 in /home/qzhang/miniconda3/envs/elm/lib/python3.11/site-packages (from stack-data->ipython>=6.1.0->ipywidgets->ipyfilechooser) (2.2.1)\n",
      "Requirement already satisfied: pure-eval in /home/qzhang/miniconda3/envs/elm/lib/python3.11/site-packages (from stack-data->ipython>=6.1.0->ipywidgets->ipyfilechooser) (0.2.2)\n",
      "Requirement already satisfied: six in /home/qzhang/miniconda3/envs/elm/lib/python3.11/site-packages (from asttokens>=2.1.0->stack-data->ipython>=6.1.0->ipywidgets->ipyfilechooser) (1.16.0)\n",
      "Note: you may need to restart the kernel to use updated packages.\n"
     ]
    }
   ],
   "source": [
    "%pip install ipyfilechooser"
   ]
  },
  {
   "cell_type": "code",
   "execution_count": 3,
   "id": "2f1c67fc-73e2-4117-915a-e366c9f3592c",
   "metadata": {},
   "outputs": [],
   "source": [
    "from ipyfilechooser import FileChooser"
   ]
  },
  {
   "cell_type": "code",
   "execution_count": 4,
   "id": "96aa0cde-b6c5-4bd6-a911-fd4227c79353",
   "metadata": {},
   "outputs": [
    {
     "data": {
      "application/vnd.jupyter.widget-view+json": {
       "model_id": "877a3b8a1ccf42d48dc2204740692638",
       "version_major": 2,
       "version_minor": 0
      },
      "text/plain": [
       "FileChooser(path='/homes/qzhang/jupyter/jpl_apps/CustomWidgets/elm/elm/ui_tests_withNB', filename='', title=''…"
      ]
     },
     "metadata": {},
     "output_type": "display_data"
    }
   ],
   "source": [
    "# fc = FileChooser(os.path.join('http://sequoia.mcs.anl.gov:8888/lab/tree/elm/elm/ui_tests_withNB', 'input_files/clm_params.txt'))\n",
    "fc = FileChooser()\n",
    "display(fc)"
   ]
  },
  {
   "cell_type": "code",
   "execution_count": 7,
   "id": "f376793b-08a9-4244-a9af-87eff38b48da",
   "metadata": {},
   "outputs": [
    {
     "data": {
      "text/plain": [
       "'/homes/qzhang/jupyter/jpl_apps/CustomWidgets/elm/elm/_frontend.py'"
      ]
     },
     "execution_count": 7,
     "metadata": {},
     "output_type": "execute_result"
    }
   ],
   "source": [
    "fc.selected"
   ]
  },
  {
   "cell_type": "code",
   "execution_count": 5,
   "id": "41683c87-f69a-499a-887c-4902ef48f71a",
   "metadata": {},
   "outputs": [],
   "source": [
    "#from ipyleaflet import Map, basemaps, basemap_to_tiles, Marker\n",
    "from ipyleaflet import Map, Marker"
   ]
  },
  {
   "cell_type": "code",
   "execution_count": 6,
   "id": "e538d43f-5807-4101-80c1-1f3aa7ad4e90",
   "metadata": {},
   "outputs": [
    {
     "data": {
      "application/vnd.jupyter.widget-view+json": {
       "model_id": "eb3f260a39da48bfa539ced87cc16eea",
       "version_major": 2,
       "version_minor": 0
      },
      "text/plain": [
       "Map(center=['52.204793', '360.121558'], controls=(ZoomControl(options=['position', 'zoom_in_text', 'zoom_in_ti…"
      ]
     },
     "execution_count": 6,
     "metadata": {},
     "output_type": "execute_result"
    }
   ],
   "source": [
    "# center = (elmw.latitude, elmw.longitude)\n",
    "center = ['52.204793', '360.121558']\n",
    "m = Map(center=center, zoom=15)\n",
    "\n",
    "marker = Marker(location=center, draggable=True)\n",
    "m.add_layer(marker);\n",
    "\n",
    "m\n",
    "\n",
    "#display(m)"
   ]
  },
  {
   "cell_type": "code",
   "execution_count": 7,
   "id": "06249a5c-51b0-4e2e-ab63-37894622c3f5",
   "metadata": {},
   "outputs": [],
   "source": [
    "from ipyleaflet_legend import Legend\n",
    "a_legend = Legend({\"low\":\"#FAA\", \"medium\":\"#A55\", \"High\":\"#500\"}, name=\"Legend\")"
   ]
  },
  {
   "cell_type": "code",
   "execution_count": null,
   "id": "b1213a06-d650-4ce0-a883-8df119b27f63",
   "metadata": {},
   "outputs": [],
   "source": [
    "m.add_control(a_legend)"
   ]
  },
  {
   "cell_type": "markdown",
   "id": "4de7f30b-0b01-49f9-ad64-a7563ba4c361",
   "metadata": {},
   "source": [
    "# Manipulate a legend"
   ]
  },
  {
   "cell_type": "markdown",
   "id": "84390692-163a-4564-8c34-204bb5f308c8",
   "metadata": {},
   "source": [
    "# Name"
   ]
  },
  {
   "cell_type": "markdown",
   "id": "27240a15-526d-44aa-9ab7-b544c666e163",
   "metadata": {},
   "source": [
    "# Legend content"
   ]
  },
  {
   "cell_type": "code",
   "execution_count": null,
   "id": "e3114379-2479-4454-bfe4-582bfdae3f58",
   "metadata": {},
   "outputs": [],
   "source": [
    "a_legend.legends = {\"prince\":\"#FAA\", \"of\":\"#A55\", \"BelAire\":\"#500\"} #set content\n",
    "a_legend.legends # get content\n",
    "a_legend.add_legend_element(\"woa\",\"#000\") # add a legend element"
   ]
  },
  {
   "cell_type": "code",
   "execution_count": null,
   "id": "12f2fbd7-f9f7-46a5-8c20-a044a8917c4c",
   "metadata": {},
   "outputs": [],
   "source": [
    "a_legend.remove_legend_element(\"woa\") # remove a legend element"
   ]
  },
  {
   "cell_type": "code",
   "execution_count": null,
   "id": "d1f671cf-c065-4688-a6a6-f836dab70aeb",
   "metadata": {},
   "outputs": [],
   "source": []
  },
  {
   "cell_type": "code",
   "execution_count": 9,
   "id": "c2c9798c-4f7a-4a83-b249-9c13341eda2b",
   "metadata": {},
   "outputs": [
    {
     "data": {
      "application/vnd.jupyter.widget-view+json": {
       "model_id": "4010b95b1d3a486796e8e5a47a196f1f",
       "version_major": 2,
       "version_minor": 0
      },
      "text/plain": [
       "FileUpload(value=(), description='Upload')"
      ]
     },
     "metadata": {},
     "output_type": "display_data"
    }
   ],
   "source": [
    "import ipywidgets as widgets\n",
    "from IPython.display import display\n",
    "\n",
    "file_picker = widgets.FileUpload()\n",
    "display(file_picker)\n",
    "\n",
    "def on_file_upload(change):\n",
    "    for name, file_info in change['new'].items():\n",
    "        print(f'Uploaded {name} (size: {file_info[\"size\"]} bytes)')\n",
    "\n",
    "file_picker.observe(on_file_upload, names='_counter')"
   ]
  },
  {
   "cell_type": "code",
   "execution_count": null,
   "id": "3a0591c5-2689-4f8f-8a39-856ffe5c51e7",
   "metadata": {},
   "outputs": [],
   "source": []
  },
  {
   "cell_type": "code",
   "execution_count": null,
   "id": "9bb7210f-62c3-4119-9712-e24e49538d9b",
   "metadata": {},
   "outputs": [],
   "source": []
  },
  {
   "cell_type": "code",
   "execution_count": null,
   "id": "eadd5d97-95e2-4cee-a781-b22f639b5f37",
   "metadata": {},
   "outputs": [],
   "source": []
  },
  {
   "cell_type": "code",
   "execution_count": null,
   "id": "46046d6f-2e83-4b85-a328-0b3922fb3179",
   "metadata": {},
   "outputs": [],
   "source": [
    "/*Boris 1:17 PM, April 7, 2023*/\n",
    "\n",
    "import ipywidgets as widgets\n",
    "from IPython.display import display\n",
    "\n",
    "file_picker = widgets.FileUpload()\n",
    "display(file_picker)\n",
    "\n",
    "def on_file_upload(change):\n",
    "    for name, file_info in change['new'].items():\n",
    "        print(f'Uploaded {name} (size: {file_info[\"size\"]} bytes)')\n",
    "\n",
    "file_picker.observe(on_file_upload, names='_counter')\n"
   ]
  },
  {
   "cell_type": "code",
   "execution_count": null,
   "id": "f8d7f189-67dc-47f0-a0c9-28965a2af546",
   "metadata": {},
   "outputs": [],
   "source": [
    "/*Boris 1:21 PM, April 7, 2023*/\n",
    "\n",
    "import { Widget } from '@lumino/widgets';\n",
    "import { FileBrowser } from '@jupyterlab/filebrowser';\n",
    "\n",
    "export class FileSelectorWidget extends Widget {\n",
    "  private fileBrowser: FileBrowser;\n",
    "  private dropdown: HTMLSelectElement;\n",
    "\n",
    "  constructor() {\n",
    "    super();\n",
    "\n",
    "    this.fileBrowser = new FileBrowser({\n",
    "      commands: {\n",
    "        fileOpen: {\n",
    "          execute: args => {\n",
    "            const path = args.path;\n",
    "            const name = args.name;\n",
    "            this.dropdown.options[this.dropdown.selectedIndex].text = name;\n",
    "            this.dropdown.options[this.dropdown.selectedIndex].value = path;\n",
    "          }\n",
    "        }\n",
    "      }\n",
    "    });\n",
    "\n",
    "    this.dropdown = document.createElement('select');\n",
    "    this.dropdown.addEventListener('change', () => {\n",
    "      const path = this.dropdown.options[this.dropdown.selectedIndex].value;\n",
    "      this.fileBrowser.model.cd(path);\n",
    "    });\n",
    "\n",
    "    this.node.appendChild(this.dropdown);\n",
    "    this.node.appendChild(this.fileBrowser.node);\n",
    "\n",
    "    this.updateDropdown();\n",
    "  }\n",
    "\n",
    "  async updateDropdown() {\n",
    "    const files = await this.fileBrowser.model.refresh();\n",
    "    this.dropdown.innerHTML = '';\n",
    "    files.forEach(file => {\n",
    "      if (file.type === 'file') {\n",
    "        const option = document.createElement('option');\n",
    "        option.text = file.name;\n",
    "        option.value = file.path;\n",
    "        this.dropdown.add(option);\n",
    "      }\n",
    "    });\n",
    "  }\n",
    "}"
   ]
  }
 ],
 "metadata": {
  "kernelspec": {
   "display_name": "Python 3 (ipykernel)",
   "language": "python",
   "name": "python3"
  },
  "language_info": {
   "codemirror_mode": {
    "name": "ipython",
    "version": 3
   },
   "file_extension": ".py",
   "mimetype": "text/x-python",
   "name": "python",
   "nbconvert_exporter": "python",
   "pygments_lexer": "ipython3",
   "version": "3.11.0"
  }
 },
 "nbformat": 4,
 "nbformat_minor": 5
}
